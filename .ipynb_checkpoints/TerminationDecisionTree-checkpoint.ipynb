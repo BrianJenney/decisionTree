{
 "cells": [
  {
   "cell_type": "code",
   "execution_count": 2,
   "metadata": {
    "collapsed": false
   },
   "outputs": [
    {
     "name": "stdout",
     "output_type": "stream",
     "text": [
      "['length_of_service', 'department_name', 'job_title', 'store_name', 'gender_short', 'termreason_desc', 'termtype_desc']\n"
     ]
    }
   ],
   "source": [
    "import pandas as pd\n",
    "import csv\n",
    "import matplotlib.pyplot as plt\n",
    "import numpy as np\n",
    "from sklearn import tree\n",
    "\n",
    "mycsv = pd.read_csv('/users/brianjenney/desktop/datascience/terminationtree/yrterm.csv', header=0)\n",
    "\n",
    "df = pd.DataFrame(mycsv)\n",
    "\n",
    "df.dropna()\n",
    "\n",
    "#get all the unique names for string value columns \n",
    "termreason = df['termreason_desc'].unique()\n",
    "\n",
    "termtype = df['termtype_desc'].unique()\n",
    "\n",
    "depts =  df['department_name'].unique()\n",
    "\n",
    "titles = df['job_title'].unique()\n",
    "\n",
    "#initialize new object\n",
    "newKey = {}\n",
    "\n",
    "\n",
    "#iterate over the string value cols and map them to integer values-- probably should be a function\n",
    "for idx, item in enumerate(titles):\n",
    "    newKey[item] = idx\n",
    "df['job_title'] = df['job_title'].map(newKey)\n",
    "\n",
    "for idx, item in enumerate(depts):\n",
    "    newKey[item] = idx\n",
    "df['department_name'] = df['department_name'].map(newKey)\n",
    "\n",
    "for idx, item in enumerate(termtype):\n",
    "    newKey[item] = idx\n",
    "df['termtype_desc'] = df['termtype_desc'].map(newKey)\n",
    "\n",
    "for idx, item in enumerate(termreason):\n",
    "    newKey[item] = idx\n",
    "df['termreason_desc'] = df['termreason_desc'].map(newKey)\n",
    "\n",
    "genders = {'M':1,'F':2}\n",
    "df['gender_short'] = df['gender_short'].map(genders)\n",
    "\n",
    "status = {'ACTIVE':1, 'TERMINATED':2}\n",
    "df['STATUS'] = df['STATUS'].map(status)\n",
    "\n",
    "#delete these cols!\n",
    "del df['gender_full']\n",
    "del df['city_name']\n",
    "del df['BUSINESS_UNIT']\n",
    "\n",
    "#get list of features for tree\n",
    "features = list(df.columns[6:13])\n",
    "features\n",
    "\n",
    "#we want to determine the status from the features\n",
    "y = df[\"STATUS\"]\n",
    "X = df[features]\n",
    "clf = tree.DecisionTreeClassifier()\n",
    "clf = clf.fit(X,y)\n",
    "\n",
    "#output our graph\n",
    "from IPython.display import Image  \n",
    "from sklearn.externals.six import StringIO  \n",
    "import pydot \n",
    "\n",
    "dot_data = StringIO()  \n",
    "tree.export_graphviz(clf, out_file=dot_data,  \n",
    "                         feature_names=features)  \n",
    "graph = pydot.graph_from_dot_data(dot_data.getvalue()) \n",
    "\n",
    "# dotfile = open(\"/users/brianjenney/desktop/datascience/tree\", 'w')\n",
    "# tree.export_graphviz(clf, out_file = dotfile, feature_names = features)\n",
    "# dotfile.close()\n",
    "\n",
    "\n",
    "print features\n",
    "\n",
    "#iterate over each row in grid and predict termination in new column\n",
    "def predict(service, dept, title, store, gender, termreason, termtype):\n",
    "    print clf.predict([[service, dept, title, store, gender, termreason, termtype]])\n",
    "\n",
    "\n"
   ]
  },
  {
   "cell_type": "code",
   "execution_count": null,
   "metadata": {
    "collapsed": true
   },
   "outputs": [],
   "source": []
  },
  {
   "cell_type": "code",
   "execution_count": null,
   "metadata": {
    "collapsed": true
   },
   "outputs": [],
   "source": []
  }
 ],
 "metadata": {
  "kernelspec": {
   "display_name": "Python 2",
   "language": "python",
   "name": "python2"
  },
  "language_info": {
   "codemirror_mode": {
    "name": "ipython",
    "version": 2
   },
   "file_extension": ".py",
   "mimetype": "text/x-python",
   "name": "python",
   "nbconvert_exporter": "python",
   "pygments_lexer": "ipython2",
   "version": "2.7.11"
  }
 },
 "nbformat": 4,
 "nbformat_minor": 0
}
